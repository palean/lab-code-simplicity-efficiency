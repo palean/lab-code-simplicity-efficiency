{
 "cells": [
  {
   "cell_type": "code",
   "execution_count": 9,
   "metadata": {},
   "outputs": [
    {
     "name": "stdout",
     "output_type": "stream",
     "text": [
      "Welcome to the DUMB Calculator! It can add and subtract whole numbers TEXTS from zero to five\n"
     ]
    },
    {
     "name": "stdin",
     "output_type": "stream",
     "text": [
      "Please choose your first number (zero to five):  one\n",
      "What do you want to do? plus or minus:  plus\n",
      "Please choose your second number (zero to five):  five\n"
     ]
    },
    {
     "name": "stdout",
     "output_type": "stream",
     "text": [
      "six\n",
      "Thanks for dumb-use this calculator, goodbye :P\n"
     ]
    }
   ],
   "source": [
    "import operator\n",
    "\n",
    "def dumb_calculator():\n",
    "    print('Welcome to the DUMB Calculator! It can add and subtract whole numbers TEXTS from zero to five')\n",
    "    a = input('Please choose your first number (zero to five): ')\n",
    "    b = input('What do you want to do? plus or minus: ')\n",
    "    c = input('Please choose your second number (zero to five): ')\n",
    "    \n",
    "    numbers_dict = {'zero':0,'one':1,'two':2,'three':3,'four':4,'five':5}\n",
    "    operation_dict = {'plus':operator.add,'minus':operator.sub}\n",
    "    numbers_dict_list = ['zero','one','two','three','four','five','six','seven','eight','nine','ten']\n",
    "\n",
    "    try:\n",
    "        numbers_dict[a]\n",
    "        index = operation_dict[b](numbers_dict[a],numbers_dict[c])\n",
    "        print(numbers_dict_list[index])\n",
    "    except:\n",
    "        print(\"Dumbly unable to answer your calculation. Start over again :/\")\n",
    "    print(\"Thanks for dumb-use this calculator, goodbye :P\")\n",
    "\n",
    "dumb_calculator()"
   ]
  }
 ],
 "metadata": {
  "kernelspec": {
   "display_name": "Python 3",
   "language": "python",
   "name": "python3"
  },
  "language_info": {
   "codemirror_mode": {
    "name": "ipython",
    "version": 3
   },
   "file_extension": ".py",
   "mimetype": "text/x-python",
   "name": "python",
   "nbconvert_exporter": "python",
   "pygments_lexer": "ipython3",
   "version": "3.7.3"
  }
 },
 "nbformat": 4,
 "nbformat_minor": 4
}
