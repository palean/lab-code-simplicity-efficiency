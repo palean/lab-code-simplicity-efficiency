{
 "cells": [
  {
   "cell_type": "code",
   "execution_count": 15,
   "metadata": {},
   "outputs": [
    {
     "name": "stdin",
     "output_type": "stream",
     "text": [
      "What is the maximal length of the triangle side? Enter a number:  8\n"
     ]
    },
    {
     "name": "stdout",
     "output_type": "stream",
     "text": [
      "The longest side possible is 5\n"
     ]
    }
   ],
   "source": [
    "def my_function():\n",
    "    x = int(input(\"What is the maximal length of the triangle side? Enter a number: \"))\n",
    "    if x <= 5:\n",
    "        print(\"The longest side possible is 0\")\n",
    "    else:\n",
    "        solution = [ i for i in range(5,x) for j in range(4,x) for k in range(3,x) if i*i == j*j + k*k][-1]\n",
    "        print(f\"The longest side possible is {solution}\")\n",
    "\n",
    "my_function()"
   ]
  }
 ],
 "metadata": {
  "kernelspec": {
   "display_name": "Python 3",
   "language": "python",
   "name": "python3"
  },
  "language_info": {
   "codemirror_mode": {
    "name": "ipython",
    "version": 3
   },
   "file_extension": ".py",
   "mimetype": "text/x-python",
   "name": "python",
   "nbconvert_exporter": "python",
   "pygments_lexer": "ipython3",
   "version": "3.7.3"
  }
 },
 "nbformat": 4,
 "nbformat_minor": 4
}
