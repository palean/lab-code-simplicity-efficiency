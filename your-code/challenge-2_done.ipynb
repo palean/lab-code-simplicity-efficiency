{
 "cells": [
  {
   "cell_type": "code",
   "execution_count": 5,
   "metadata": {},
   "outputs": [
    {
     "name": "stdin",
     "output_type": "stream",
     "text": [
      "Enter minimum string length:  0\n",
      "Enter maximum string length:  10\n",
      "How many random strings to generate?  2\n"
     ]
    },
    {
     "name": "stdout",
     "output_type": "stream",
     "text": [
      "['jyqjo2du9d']\n",
      "['lxbchmm9h8']\n"
     ]
    }
   ],
   "source": [
    "import string\n",
    "import random\n",
    "\n",
    "a = int(input('Enter minimum string length: '))\n",
    "b = int(input('Enter maximum string length: '))\n",
    "n = int(input('How many random strings to generate? '))\n",
    "\n",
    "def generatorFunction(a,b):\n",
    "    if b < a:\n",
    "        print(\"Incorrect length, try again.\")\n",
    "    else:\n",
    "        try:\n",
    "            generator = [''.join(random.choice(string.ascii_lowercase + string.digits) for _ in range (a,b))]\n",
    "            return generator    \n",
    "        except:\n",
    "            print(\"Incorrect inputs, try again.\")\n",
    "\n",
    "for i in range (n):\n",
    "    print(generatorFunction(a,b))"
   ]
  },
  {
   "cell_type": "code",
   "execution_count": null,
   "metadata": {},
   "outputs": [],
   "source": []
  }
 ],
 "metadata": {
  "kernelspec": {
   "display_name": "Python 3",
   "language": "python",
   "name": "python3"
  },
  "language_info": {
   "codemirror_mode": {
    "name": "ipython",
    "version": 3
   },
   "file_extension": ".py",
   "mimetype": "text/x-python",
   "name": "python",
   "nbconvert_exporter": "python",
   "pygments_lexer": "ipython3",
   "version": "3.7.3"
  }
 },
 "nbformat": 4,
 "nbformat_minor": 4
}
